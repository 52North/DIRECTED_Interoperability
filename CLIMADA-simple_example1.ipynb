{
 "cells": [
  {
   "cell_type": "markdown",
   "id": "3c0ed1f5-5fd3-40fc-873f-1e8c12bf9479",
   "metadata": {},
   "source": [
    "# CLIMADA - simple_wind_denmark data flow: EXAMPLE 1"
   ]
  },
  {
   "cell_type": "markdown",
   "id": "e3858a83-d4e5-4ff9-be96-bfddf4341d10",
   "metadata": {},
   "source": [
    "In this notebook we show one simple impact calculations with CLIMADA and its data API."
   ]
  },
  {
   "cell_type": "code",
   "execution_count": 1,
   "id": "517709e0-95bf-4087-be41-3ca8c58c4303",
   "metadata": {
    "execution": {
     "iopub.execute_input": "2024-08-05T12:40:23.778827Z",
     "iopub.status.busy": "2024-08-05T12:40:23.778727Z",
     "iopub.status.idle": "2024-08-05T12:40:26.078540Z",
     "shell.execute_reply": "2024-08-05T12:40:26.078101Z",
     "shell.execute_reply.started": "2024-08-05T12:40:23.778813Z"
    }
   },
   "outputs": [
    {
     "name": "stderr",
     "output_type": "stream",
     "text": [
      "/Users/ckropf/opt/anaconda3/envs/climada_env/lib/python3.10/site-packages/dask/dataframe/_pyarrow_compat.py:17: FutureWarning: Minimal version of pyarrow will soon be increased to 14.0.1. You are using 12.0.1. Please consider upgrading.\n",
      "  warnings.warn(\n"
     ]
    }
   ],
   "source": [
    "from climada.util.api_client import Client\n",
    "client = Client()"
   ]
  },
  {
   "cell_type": "markdown",
   "id": "159079bc-ca7a-42ea-b8bc-f51b2b580836",
   "metadata": {},
   "source": [
    "First, we load the hazard dataset (which contains flood depths for each day between 1971 and 2023 for a total of 19358 events) from the PIK."
   ]
  },
  {
   "cell_type": "code",
   "execution_count": 2,
   "id": "08bf5c1d-da46-4a18-8210-59e60ba2a127",
   "metadata": {
    "execution": {
     "iopub.execute_input": "2024-08-05T12:40:26.080523Z",
     "iopub.status.busy": "2024-08-05T12:40:26.080259Z",
     "iopub.status.idle": "2024-08-05T12:40:26.293839Z",
     "shell.execute_reply": "2024-08-05T12:40:26.293381Z",
     "shell.execute_reply.started": "2024-08-05T12:40:26.080511Z"
    }
   },
   "outputs": [],
   "source": [
    "haz = client.get_hazard(\n",
    "    hazard_type='storm_europe',\n",
    "    properties={\n",
    "        'climate_scenario':'ssp585',\n",
    "        'spatial_coverage':'Europe',\n",
    "        'data_source':'CMIP6',\n",
    "        'gcm':'CMCC-ESM2'\n",
    "    }\n",
    ")"
   ]
  },
  {
   "cell_type": "markdown",
   "id": "fb65def3-a771-4ec7-b6c1-c651763685c4",
   "metadata": {},
   "source": [
    "Second, we load an exposure file downloaded from WorldPop"
   ]
  },
  {
   "cell_type": "code",
   "execution_count": 3,
   "id": "b43f8e71-6003-4411-a5bb-6f6208d68285",
   "metadata": {
    "execution": {
     "iopub.execute_input": "2024-08-05T12:40:26.294724Z",
     "iopub.status.busy": "2024-08-05T12:40:26.294587Z",
     "iopub.status.idle": "2024-08-05T12:40:26.308229Z",
     "shell.execute_reply": "2024-08-05T12:40:26.307768Z",
     "shell.execute_reply.started": "2024-08-05T12:40:26.294711Z"
    }
   },
   "outputs": [],
   "source": [
    "from climada.entity import Exposures\n",
    "from pathlib import Path\n",
    "exp_path = Path('../Data/')\n",
    "exp_file = 'dnk_ppp_2020_1km_Aggregated_UNadj.tif' # Worldpop population distribution for Denmark\n",
    "exp = Exposures.from_raster(\n",
    "    exp_path / exp_file,\n",
    ")"
   ]
  },
  {
   "cell_type": "markdown",
   "id": "2379a0e9-58a3-48cd-95fb-c45a3c676cfc",
   "metadata": {},
   "source": [
    "Third, we define an impact function. This is tricky, as this typically depends strongly on the datasets, and the user should define them carefully. Here we simply assume a 1m threshold for certain countries, and 2m for others (just for demonstration)"
   ]
  },
  {
   "cell_type": "code",
   "execution_count": 4,
   "id": "ef89d8f2-6154-4cf5-965f-df33700f7abe",
   "metadata": {
    "execution": {
     "iopub.execute_input": "2024-08-05T12:40:26.309039Z",
     "iopub.status.busy": "2024-08-05T12:40:26.308895Z",
     "iopub.status.idle": "2024-08-05T12:40:26.312030Z",
     "shell.execute_reply": "2024-08-05T12:40:26.311523Z",
     "shell.execute_reply.started": "2024-08-05T12:40:26.309025Z"
    }
   },
   "outputs": [],
   "source": [
    "from climada.entity import ImpactFunc, ImpactFuncSet\n",
    "min_wind = 0\n",
    "max_wind = 80\n",
    "\n",
    "threshold1 = 30\n",
    "impf_id1 = 1\n",
    "impf1 = ImpactFunc.from_step_impf(\n",
    "    intensity=(min_wind, threshold1, max_wind),\n",
    "    haz_type=haz.haz_type,\n",
    "    impf_id=impf_id1\n",
    ")\n",
    "\n",
    "impfset = ImpactFuncSet([impf1])"
   ]
  },
  {
   "cell_type": "markdown",
   "id": "21ad462d-0319-46d9-a3ec-ccd4a209d3ee",
   "metadata": {
    "execution": {
     "iopub.execute_input": "2024-08-05T12:38:28.503961Z",
     "iopub.status.busy": "2024-08-05T12:38:28.503132Z",
     "iopub.status.idle": "2024-08-05T12:38:28.515025Z",
     "shell.execute_reply": "2024-08-05T12:38:28.512578Z",
     "shell.execute_reply.started": "2024-08-05T12:38:28.503907Z"
    }
   },
   "source": [
    "Fourth, we need to assign the impact functions to the exposure points. Here we choose certain countries at random to have 1m, others 2m."
   ]
  },
  {
   "cell_type": "code",
   "execution_count": 5,
   "id": "a664086d-374f-4af0-855f-54e6bb868af8",
   "metadata": {
    "execution": {
     "iopub.execute_input": "2024-08-05T12:40:26.312884Z",
     "iopub.status.busy": "2024-08-05T12:40:26.312721Z",
     "iopub.status.idle": "2024-08-05T12:40:26.316434Z",
     "shell.execute_reply": "2024-08-05T12:40:26.315954Z",
     "shell.execute_reply.started": "2024-08-05T12:40:26.312868Z"
    }
   },
   "outputs": [],
   "source": [
    "exp.gdf[f'impf_{haz.haz_type}'] = impf_id1"
   ]
  },
  {
   "cell_type": "code",
   "execution_count": 6,
   "id": "cd0bc75a-00d5-4dd5-b465-4ccdbb4ba7ed",
   "metadata": {
    "execution": {
     "iopub.execute_input": "2024-08-05T12:40:26.317262Z",
     "iopub.status.busy": "2024-08-05T12:40:26.317124Z",
     "iopub.status.idle": "2024-08-05T12:40:26.620952Z",
     "shell.execute_reply": "2024-08-05T12:40:26.620591Z",
     "shell.execute_reply.started": "2024-08-05T12:40:26.317249Z"
    }
   },
   "outputs": [
    {
     "name": "stdout",
     "output_type": "stream",
     "text": [
      "2024-08-05 14:40:26,611 - climada.util.coordinates - WARNING - Distance to closest centroid is greater than 1.5km for 328170 coordinates.\n"
     ]
    }
   ],
   "source": [
    "# We can assign centroids of the hazard the exposure points manually. This is useful when doing repeated impact calculations\n",
    "exp.assign_centroids(haz, threshold=1.5) #threshold for nearest neighbour assignement is chosen to 1.5km as the population dataset is a 1km resolution (arbitrary choice, default would be 100)"
   ]
  },
  {
   "cell_type": "markdown",
   "id": "e2b1cb73-e544-4ef6-a934-bcca00f23876",
   "metadata": {},
   "source": [
    "Fith, we compute the impacts"
   ]
  },
  {
   "cell_type": "code",
   "execution_count": 7,
   "id": "176cd7eb-e8b2-4bce-ab07-bda6369920e2",
   "metadata": {
    "execution": {
     "iopub.execute_input": "2024-08-05T12:40:26.622803Z",
     "iopub.status.busy": "2024-08-05T12:40:26.622649Z",
     "iopub.status.idle": "2024-08-05T12:40:26.629752Z",
     "shell.execute_reply": "2024-08-05T12:40:26.629329Z",
     "shell.execute_reply.started": "2024-08-05T12:40:26.622788Z"
    }
   },
   "outputs": [],
   "source": [
    "from climada.engine import ImpactCalc\n",
    "impcalc = ImpactCalc(exposures=exp, impfset=impfset, hazard=haz)"
   ]
  },
  {
   "cell_type": "code",
   "execution_count": 8,
   "id": "4f3f5527-722e-48de-83f5-0cff8b5a479d",
   "metadata": {
    "execution": {
     "iopub.execute_input": "2024-08-05T12:40:26.630514Z",
     "iopub.status.busy": "2024-08-05T12:40:26.630353Z",
     "iopub.status.idle": "2024-08-05T12:40:26.653299Z",
     "shell.execute_reply": "2024-08-05T12:40:26.652909Z",
     "shell.execute_reply.started": "2024-08-05T12:40:26.630500Z"
    }
   },
   "outputs": [],
   "source": [
    "impact = impcalc.impact(assign_centroids=False)"
   ]
  },
  {
   "cell_type": "markdown",
   "id": "655bfdfc-87b4-49dd-80e8-cf8a618c0034",
   "metadata": {},
   "source": [
    "Sixth, we can extract diverse risk and impact metrics. One can also save them to file."
   ]
  },
  {
   "cell_type": "code",
   "execution_count": 9,
   "id": "ae03103f-16d9-4ea1-be6d-adf85cc69e20",
   "metadata": {
    "execution": {
     "iopub.execute_input": "2024-08-05T12:40:26.653955Z",
     "iopub.status.busy": "2024-08-05T12:40:26.653798Z",
     "iopub.status.idle": "2024-08-05T12:40:26.658047Z",
     "shell.execute_reply": "2024-08-05T12:40:26.657707Z",
     "shell.execute_reply.started": "2024-08-05T12:40:26.653937Z"
    }
   },
   "outputs": [
    {
     "data": {
      "text/plain": [
       "3130.063295062383"
      ]
     },
     "execution_count": 9,
     "metadata": {},
     "output_type": "execute_result"
    }
   ],
   "source": [
    "# Average annual impact over the whole region\n",
    "impact.aai_agg"
   ]
  },
  {
   "cell_type": "code",
   "execution_count": 10,
   "id": "094bdb7f-aa52-4b0e-83c3-7129882e1137",
   "metadata": {
    "execution": {
     "iopub.execute_input": "2024-08-05T12:40:26.658841Z",
     "iopub.status.busy": "2024-08-05T12:40:26.658717Z",
     "iopub.status.idle": "2024-08-05T12:40:26.661693Z",
     "shell.execute_reply": "2024-08-05T12:40:26.661333Z",
     "shell.execute_reply.started": "2024-08-05T12:40:26.658829Z"
    }
   },
   "outputs": [
    {
     "data": {
      "text/plain": [
       "array([0., 0., 0., ..., 0., 0., 0.])"
      ]
     },
     "execution_count": 10,
     "metadata": {},
     "output_type": "execute_result"
    }
   ],
   "source": [
    "# Average annual impact per exposure point\n",
    "impact.eai_exp"
   ]
  },
  {
   "cell_type": "code",
   "execution_count": 11,
   "id": "7406d11a-8205-4483-bcfd-1985b208c110",
   "metadata": {
    "execution": {
     "iopub.execute_input": "2024-08-05T12:40:26.662429Z",
     "iopub.status.busy": "2024-08-05T12:40:26.662284Z",
     "iopub.status.idle": "2024-08-05T12:40:26.665822Z",
     "shell.execute_reply": "2024-08-05T12:40:26.665438Z",
     "shell.execute_reply.started": "2024-08-05T12:40:26.662416Z"
    }
   },
   "outputs": [
    {
     "data": {
      "text/plain": [
       "array([0., 0., 0., ..., 0., 0., 0.])"
      ]
     },
     "execution_count": 11,
     "metadata": {},
     "output_type": "execute_result"
    }
   ],
   "source": [
    "# Total impact per event\n",
    "impact.eai_exp"
   ]
  },
  {
   "cell_type": "code",
   "execution_count": 12,
   "id": "c2c9fd9c-b013-48cf-9b3a-d5bd6fe79149",
   "metadata": {
    "execution": {
     "iopub.execute_input": "2024-08-05T12:40:26.666772Z",
     "iopub.status.busy": "2024-08-05T12:40:26.666531Z",
     "iopub.status.idle": "2024-08-05T12:40:26.669807Z",
     "shell.execute_reply": "2024-08-05T12:40:26.669480Z",
     "shell.execute_reply.started": "2024-08-05T12:40:26.666757Z"
    }
   },
   "outputs": [
    {
     "data": {
      "text/plain": [
       "ImpactFreqCurve(return_per=[1, 2, 5, 10, 20], impact=array([ 288.0693593 , 3222.00770569, 5110.56558537, 5398.63494468,\n",
       "       5398.63494468]), unit='USD', frequency_unit='1/year', label='Exceedance frequency curve')"
      ]
     },
     "execution_count": 12,
     "metadata": {},
     "output_type": "execute_result"
    }
   ],
   "source": [
    "# Impact at given return periods\n",
    "impact.calc_freq_curve(return_per=[1,2,5,10,20])"
   ]
  },
  {
   "cell_type": "code",
   "execution_count": 13,
   "id": "9394824e-0e80-4f96-818a-27caf6b56b57",
   "metadata": {
    "execution": {
     "iopub.execute_input": "2024-08-05T12:40:26.670580Z",
     "iopub.status.busy": "2024-08-05T12:40:26.670430Z",
     "iopub.status.idle": "2024-08-05T12:40:27.206116Z",
     "shell.execute_reply": "2024-08-05T12:40:27.205778Z",
     "shell.execute_reply.started": "2024-08-05T12:40:26.670567Z"
    }
   },
   "outputs": [],
   "source": [
    "# Save to csv (netcdf will be implemented soon)\n",
    "impact.write_csv('impact_simple_wind_denmark_example1.csv')"
   ]
  },
  {
   "cell_type": "code",
   "execution_count": 14,
   "id": "2a995f3b-7023-45da-87cb-e6d30cfd8748",
   "metadata": {
    "execution": {
     "iopub.execute_input": "2024-08-05T12:40:27.206917Z",
     "iopub.status.busy": "2024-08-05T12:40:27.206769Z",
     "iopub.status.idle": "2024-08-05T12:40:27.209593Z",
     "shell.execute_reply": "2024-08-05T12:40:27.209270Z",
     "shell.execute_reply.started": "2024-08-05T12:40:27.206906Z"
    }
   },
   "outputs": [
    {
     "data": {
      "text/plain": [
       "<3090x328320 sparse matrix of type '<class 'numpy.float64'>'\n",
       "\twith 1463 stored elements in Compressed Sparse Row format>"
      ]
     },
     "execution_count": 14,
     "metadata": {},
     "output_type": "execute_result"
    }
   ],
   "source": [
    "# The full event/point impact matrix\n",
    "impact.imp_mat"
   ]
  },
  {
   "cell_type": "code",
   "execution_count": 15,
   "id": "b86e00e6-48ce-40db-87e5-28a06eb72937",
   "metadata": {
    "execution": {
     "iopub.execute_input": "2024-08-05T12:40:27.210302Z",
     "iopub.status.busy": "2024-08-05T12:40:27.210176Z",
     "iopub.status.idle": "2024-08-05T12:40:27.213163Z",
     "shell.execute_reply": "2024-08-05T12:40:27.212745Z",
     "shell.execute_reply.started": "2024-08-05T12:40:27.210290Z"
    }
   },
   "outputs": [],
   "source": [
    "# Save the full event/point impact matrix in sparse format\n",
    "impact.write_sparse_csr('impact_simple_wind_denmark_example1_impmat.npz')"
   ]
  },
  {
   "cell_type": "code",
   "execution_count": null,
   "id": "fb38962e-a58f-47ec-8997-cfc4f7b6a877",
   "metadata": {},
   "outputs": [],
   "source": []
  }
 ],
 "metadata": {
  "kernelspec": {
   "display_name": "Python [conda env:anaconda3-climada_env]",
   "language": "python",
   "name": "conda-env-anaconda3-climada_env-py"
  },
  "language_info": {
   "codemirror_mode": {
    "name": "ipython",
    "version": 3
   },
   "file_extension": ".py",
   "mimetype": "text/x-python",
   "name": "python",
   "nbconvert_exporter": "python",
   "pygments_lexer": "ipython3",
   "version": "3.10.0"
  }
 },
 "nbformat": 4,
 "nbformat_minor": 5
}
