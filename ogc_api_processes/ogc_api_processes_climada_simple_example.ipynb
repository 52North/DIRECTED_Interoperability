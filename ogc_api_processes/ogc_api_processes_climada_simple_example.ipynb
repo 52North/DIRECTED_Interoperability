{
 "cells": [
  {
   "cell_type": "markdown",
   "id": "56395fc3-dd8e-4b1a-a8ee-f3bc703f133d",
   "metadata": {},
   "source": [
    "# Example notebook to show how to use OGC API Processes"
   ]
  },
  {
   "cell_type": "markdown",
   "id": "13d358f9-a095-4dc1-a895-a641d8e050ba",
   "metadata": {},
   "source": [
    "The necessary pygeoapi backend is available via https://github.com/52North/directed_pygeoapi_processes"
   ]
  },
  {
   "cell_type": "code",
   "execution_count": null,
   "id": "80cbaf5d-bdd3-4c2b-8970-c8f32c1d8f27",
   "metadata": {},
   "outputs": [],
   "source": [
    "from io import BytesIO\n",
    "\n",
    "import geopandas as gpd\n",
    "import pandas as pd\n",
    "import requests\n",
    "#from owslib.ogcapi.processes import Processes"
   ]
  },
  {
   "cell_type": "markdown",
   "id": "762a6673-7e18-43b8-9dff-ba0ee7adda38",
   "metadata": {},
   "source": [
    "## Base configuration"
   ]
  },
  {
   "cell_type": "code",
   "execution_count": null,
   "id": "f77081a6-8962-4d2a-9bec-1a70520d2df8",
   "metadata": {},
   "outputs": [],
   "source": [
    "base_url = 'http://localhost:5000'\n",
    "process_id = 'climada-simple-example-denmark-process'"
   ]
  },
  {
   "cell_type": "markdown",
   "id": "66cc813a-9f81-4e92-b768-791805c6657e",
   "metadata": {},
   "source": [
    "## Helper class"
   ]
  },
  {
   "cell_type": "code",
   "execution_count": null,
   "id": "37e57482-38c7-4c77-8a78-7408e82f8e98",
   "metadata": {},
   "outputs": [],
   "source": [
    "class ProcessesAPI():\n",
    "    def __init__(self, url):\n",
    "        self.base_url = url\n",
    "\n",
    "    def execute_process(self, process_id: str, process_input: dict, headers: dict | None = None):\n",
    "        url = f'{self.base_url}/processes/{process_id}/execution'\n",
    "        response = requests.post(url=url, json=process_input, headers=headers)\n",
    "        return response\n",
    "\n",
    "    def get_job(self, job_id):\n",
    "        url = f'{self.base_url}/jobs/{job_id}'\n",
    "        response = requests.get(url)\n",
    "        return response\n",
    "\n",
    "    def get_job_result(self, job_id):\n",
    "        url = f'{self.base_url}/jobs/{job_id}/results'\n",
    "        try:\n",
    "            response = requests.get(url)\n",
    "            if response.headers['Content-Type'] == 'text/html':\n",
    "                result = response.content\n",
    "            elif response.headers['Content-Type'] == 'application/json':\n",
    "                result = response.json()\n",
    "            else:\n",
    "                result = BytesIO(response.content)\n",
    "        except Exception as err:\n",
    "            print(f\"Error: could't get result of job {job_id}: {err}\")\n",
    "        return result"
   ]
  },
  {
   "cell_type": "markdown",
   "id": "fa4fe6e4-3b48-4633-a208-2090082683f1",
   "metadata": {},
   "source": [
    "## Execute a process"
   ]
  },
  {
   "cell_type": "code",
   "execution_count": null,
   "id": "cb929acf-04a8-4b39-bc32-659567487bb6",
   "metadata": {},
   "outputs": [],
   "source": [
    "api = ProcessesAPI(base_url)"
   ]
  },
  {
   "cell_type": "markdown",
   "id": "a6bff93b-65cd-429f-9bfd-753dd6040585",
   "metadata": {},
   "source": [
    "Combinations\n",
    "\n",
    "| climate_scenario | data_source | gcm |\n",
    "| --- | --- | --- |\n",
    "| ssp585 | CMIP6 | CMCC-ESM2 |\n",
    "| ssp245 | CMIP6 | CanESM5 |\n",
    "| ... | ... | ... |"
   ]
  },
  {
   "cell_type": "code",
   "execution_count": null,
   "id": "b131c0c1-ae44-4f4f-a7e7-116ad85f1a9e",
   "metadata": {},
   "outputs": [],
   "source": [
    "# Process configuration\n",
    "async_execution = False\n",
    "\n",
    "post_body = {\n",
    "    \"inputs\": {\n",
    "        \"intensity\": [0, 30, 80],\n",
    "        \"climate_scenario\": \"ssp585\",\n",
    "        \"data_source\": \"CMIP6\",\n",
    "        \"gcm\": \"CMCC-ESM2\",\n",
    "        \"mdd\": [0, 1],\n",
    "        \"paa\": [1, 1],\n",
    "        \"nearest_neighbor_threshold\": 1.5,\n",
    "        \"return_periods\":  [1, 2, 5, 10, 20]\n",
    "    },\n",
    "    #\"response\": \"raw\",\n",
    "    #\"transmissionMode\": \"reference\"\n",
    "}"
   ]
  },
  {
   "cell_type": "code",
   "execution_count": null,
   "id": "b7559c61-ad1e-4a7d-9601-c7b26425d02f",
   "metadata": {},
   "outputs": [],
   "source": [
    "if async_execution:\n",
    "    headers = {\n",
    "        \"Prefer\": \"respond-async\"\n",
    "    }\n",
    "else:\n",
    "    headers = None"
   ]
  },
  {
   "cell_type": "code",
   "execution_count": null,
   "id": "1fcc44db-7c27-4bb5-8663-f9aec9c2db4c",
   "metadata": {},
   "outputs": [],
   "source": [
    "execution_resp = api.execute_process(process_id, post_body, headers)"
   ]
  },
  {
   "cell_type": "code",
   "execution_count": null,
   "id": "f9e57691-e837-45e5-baf5-746b5e3abf26",
   "metadata": {},
   "outputs": [],
   "source": [
    "print(execution_resp.status_code)\n",
    "print(execution_resp.headers)"
   ]
  },
  {
   "cell_type": "markdown",
   "id": "8fd00a71-f6d1-4593-a303-a6a7e8b1871b",
   "metadata": {},
   "source": [
    "## Get process results"
   ]
  },
  {
   "cell_type": "code",
   "execution_count": null,
   "id": "d72adaaf-e657-4e11-adbc-eb2457450168",
   "metadata": {},
   "outputs": [],
   "source": [
    "# The GET {base_url}/jobs/{job_id}/results request is currently not working for binary output\n",
    "#if execution_resp.status_code in [200, 201]:\n",
    "#    job_id = execution_resp.headers['Location'].split('/')[-1]\n",
    "#    job = api.get_job(job_id).json()\n",
    "#    if job['status'] == 'successful':\n",
    "#        result = api.get_job_result(job_id)\n",
    "#    else:\n",
    "#        print(f\"Warning: processing job hasn't finished successfully, status = {job['status']}\")\n",
    "#else:\n",
    "#    print(f\"Warning: execution request failed with status code {execution_resp.status_code} and message {execution_resp.text}\")"
   ]
  },
  {
   "cell_type": "code",
   "execution_count": null,
   "id": "d1ed7c33-323a-44ba-9629-2a69bd7d6ffd",
   "metadata": {},
   "outputs": [],
   "source": [
    "result = BytesIO(execution_resp.content)"
   ]
  },
  {
   "cell_type": "markdown",
   "id": "eed6db1b-8356-4ece-a33d-65e5a3418fff",
   "metadata": {},
   "source": [
    "## Work with process results"
   ]
  },
  {
   "cell_type": "code",
   "execution_count": null,
   "id": "80837f30-9397-4024-8f96-2f4166b998ee",
   "metadata": {},
   "outputs": [],
   "source": [
    "column_names = ['event_id', 'event_name', 'event_date', 'event_frequency', 'at_event', 'eai_exp', 'exp_lat', 'exp_lon']"
   ]
  },
  {
   "cell_type": "code",
   "execution_count": null,
   "id": "e6949fa7-2c38-4b36-ab7b-f119f65d0606",
   "metadata": {},
   "outputs": [],
   "source": [
    "df = pd.read_csv(result, usecols=column_names)"
   ]
  },
  {
   "cell_type": "code",
   "execution_count": null,
   "id": "69b763d9-6b3d-4ad2-b189-e1216cc3f636",
   "metadata": {},
   "outputs": [],
   "source": [
    "df.dropna(subset=['at_event'], inplace=True)"
   ]
  },
  {
   "cell_type": "code",
   "execution_count": null,
   "id": "e117497d-6c53-4efe-aa80-64640a7af014",
   "metadata": {},
   "outputs": [],
   "source": [
    "df"
   ]
  },
  {
   "cell_type": "code",
   "execution_count": null,
   "id": "620af630-ee95-4008-bb97-92dac5919f0f",
   "metadata": {},
   "outputs": [],
   "source": [
    "df[df['at_event'] != 0.0]"
   ]
  },
  {
   "cell_type": "code",
   "execution_count": null,
   "id": "d64feca7-6673-4581-9fcf-895b33e28f45",
   "metadata": {},
   "outputs": [],
   "source": [
    "df.plot(x='event_date', y='at_event')"
   ]
  },
  {
   "cell_type": "code",
   "execution_count": null,
   "id": "c8c0b02a-0edc-4c1c-a363-1b383f42fe67",
   "metadata": {},
   "outputs": [],
   "source": [
    "gdf = gpd.GeoDataFrame(df, geometry=gpd.points_from_xy(df['exp_lat'], df['exp_lon']))"
   ]
  },
  {
   "cell_type": "code",
   "execution_count": null,
   "id": "6d56f0d1-42c2-4315-95a9-690ea22644e1",
   "metadata": {},
   "outputs": [],
   "source": [
    "gdf"
   ]
  },
  {
   "cell_type": "code",
   "execution_count": null,
   "id": "4c819650-1d39-4343-8c12-4b91e177e35b",
   "metadata": {},
   "outputs": [],
   "source": [
    "#gdf.plot()"
   ]
  }
 ],
 "metadata": {
  "kernelspec": {
   "display_name": "Python 3 (ipykernel)",
   "language": "python",
   "name": "python3"
  },
  "language_info": {
   "codemirror_mode": {
    "name": "ipython",
    "version": 3
   },
   "file_extension": ".py",
   "mimetype": "text/x-python",
   "name": "python",
   "nbconvert_exporter": "python",
   "pygments_lexer": "ipython3",
   "version": "3.10.12"
  }
 },
 "nbformat": 4,
 "nbformat_minor": 5
}
