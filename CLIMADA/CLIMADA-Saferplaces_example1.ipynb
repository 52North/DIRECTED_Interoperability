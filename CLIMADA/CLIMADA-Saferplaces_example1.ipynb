{
 "cells": [
  {
   "cell_type": "markdown",
   "metadata": {},
   "source": [
    "# CLIMADA - Saferplaces data flow: EXAMPLE 1"
   ]
  },
  {
   "cell_type": "markdown",
   "metadata": {},
   "source": [
    "In this notebook we show one simple impact calculations with CLIMADA using a datafile for a **SINGLE** flood from the Saferplaces model."
   ]
  },
  {
   "cell_type": "code",
   "execution_count": 1,
   "metadata": {},
   "outputs": [],
   "source": [
    "from pathlib import Path"
   ]
  },
  {
   "cell_type": "markdown",
   "metadata": {},
   "source": [
    "**Define the path to DATA folder. The DATA can be downloaded from NEXTCLOUD [https://cloud.tu-braunschweig.de/f/569399210](https://cloud.tu-braunschweig.de/f/569399210)**   "
   ]
  },
  {
   "cell_type": "code",
   "execution_count": 2,
   "metadata": {},
   "outputs": [],
   "source": [
    "data_path = Path('/Users/vwattin/Documents/Programming/Climate/DIRECTED/Coupling/DATA')\n",
    "\n",
    "# Define the output folder path (used later in the script)\n",
    "output_path = Path('Results')\n",
    "\n",
    "# Create the output folder if it doesn't exist\n",
    "output_path.mkdir(parents=True, exist_ok=True)"
   ]
  },
  {
   "cell_type": "markdown",
   "metadata": {},
   "source": [
    "### Define the Hazard Object"
   ]
  },
  {
   "cell_type": "code",
   "execution_count": 3,
   "metadata": {},
   "outputs": [],
   "source": [
    "# import numpy as np\n",
    "# import geopandas as gpd\n",
    "# import rasterio\n",
    "# from scipy.sparse import csr_matrix\n",
    "# from climada.hazard import Hazard, Centroids\n",
    "# from shapely.geometry import box\n",
    "\n",
    "# # Define the file path and parameters\n",
    "# folder = 'Saferplaces'  # Folder where the file is located\n",
    "# file = 'WD_RAIN103551.tif'  # Name of the file\n",
    "# hazard_type = 'RF'  # Type of the hazard, ideally a two-letter identifier\n",
    "# intensity_unit = 'm'  # Unit of intensity, just for plots\n",
    "# n_ev = 1  # Number of events\n",
    "# frequency = np.ones(n_ev) / 1000  # Arbitrary frequency of the event\n",
    "# intended_crs = \"EPSG:4326\"  # CLIMADA default CRS\n",
    "# file_path = data_path / folder / file  # Complete file path\n",
    "\n",
    "# # Read the .tif file using rasterio\n",
    "# with rasterio.open(file_path) as src:\n",
    "#     data = src.read(1)  # Read the first (or only) band\n",
    "#     transform = src.transform  # Affine transformation matrix\n",
    "#     orig_crs = src.crs  # CRS information from the .tif file\n",
    "\n",
    "# # Get the bounds of the raster and generate the coordinates\n",
    "# nrows, ncols = data.shape\n",
    "# x_coords = np.linspace(transform[2], transform[2] + ncols * transform[0], ncols)\n",
    "# y_coords = np.linspace(transform[5], transform[5] + nrows * transform[4], nrows)\n",
    "\n",
    "# X, Y = np.meshgrid(x_coords, y_coords)\n",
    "# xx = X.flatten()\n",
    "# yy = Y.flatten()\n",
    "# values = data.flatten()\n",
    "\n",
    "# # Create a GeoDataFrame with the values and geometry\n",
    "# haz_gdf = gpd.GeoDataFrame({'value': values}, geometry=gpd.points_from_xy(xx, yy), crs=orig_crs)\n",
    "\n",
    "# # Reproject the GeoDataFrame to the intended CRS\n",
    "# haz_gdf = haz_gdf.to_crs(intended_crs)\n",
    "\n",
    "# # Create the hazard object\n",
    "# haz = Hazard(\n",
    "#     haz_type=hazard_type,\n",
    "#     intensity=csr_matrix([haz_gdf[\"value\"]]),  # Sparse matrix with the intensity of the event\n",
    "#     centroids=Centroids(lat=haz_gdf.geometry.y, lon=haz_gdf.geometry.x, crs=haz_gdf.crs),\n",
    "#     units=intensity_unit,\n",
    "#     event_id=np.arange(n_ev, dtype=int),\n",
    "#     frequency=frequency\n",
    "# )\n",
    "\n",
    "# # Check the hazard object\n",
    "# haz.check()\n",
    "\n",
    "# # Optionally, plot to verify\n",
    "# haz_gdf.plot()\n"
   ]
  },
  {
   "cell_type": "code",
   "execution_count": 4,
   "metadata": {},
   "outputs": [],
   "source": [
    "# # Read the .tif file using rasterio\n",
    "# with rasterio.open(file_path) as src:\n",
    "#     data = src.read(1)  # Read the first (or only) band\n",
    "\n",
    "#     # Metadata attributes\n",
    "#     transform = src.transform  # Affine transformation matrix\n",
    "#     orig_crs = src.crs  # Coordinate Reference System (CRS)\n",
    "#     bounds = src.bounds  # Bounding box in the coordinate system of the data\n",
    "#     width = src.width  # Width of the raster in pixels\n",
    "#     height = src.height  # Height of the raster in pixels\n",
    "#     count = src.count  # Number of bands in the raster\n",
    "#     dtype = src.dtypes[0]  # Data type of the raster's values\n",
    "#     driver = src.driver  # Format driver (e.g., 'GTiff' for GeoTIFF)\n",
    "#     nodata = src.nodata  # NoData value (if defined)\n",
    "#     metadata = src.meta  # All metadata in a dictionary\n",
    "\n",
    "# # Example of accessing metadata\n",
    "# print(f\"CRS: {orig_crs}\")\n",
    "# print(f\"Affine Transform: {transform}\")\n",
    "# print(f\"Bounds: {bounds}\")\n",
    "# print(f\"Width: {width}, Height: {height}\")\n",
    "# print(f\"Number of Bands: {count}\")\n",
    "# print(f\"Data Type: {dtype}\")\n",
    "# print(f\"Driver: {driver}\")\n",
    "# print(f\"NoData Value: {nodata}\")\n",
    "# print(f\"Metadata: {metadata}\")\n"
   ]
  },
  {
   "cell_type": "code",
   "execution_count": 5,
   "metadata": {},
   "outputs": [],
   "source": [
    "import numpy as np\n",
    "import geopandas as gpd\n",
    "import rasterio\n",
    "from scipy.sparse import csr_matrix\n",
    "from climada.hazard import Hazard, Centroids\n",
    "from shapely.geometry import box\n",
    "\n",
    "# Define the file path and parameters\n",
    "folder = 'Saferplaces'  # Folder where the file is located\n",
    "file = 'WD_RAIN103551.tif'  # Name of the file\n",
    "hazard_type = 'RF'  # Type of the hazard, ideally a two-letter identifier\n",
    "intensity_unit = 'm'  # Unit of intensity, just for plots\n",
    "n_ev = 1  # Number of events\n",
    "frequency = np.ones(n_ev) / 1000  # Arbitrary frequency of the event\n",
    "intended_crs = \"EPSG:4326\"  # CLIMADA default CRS\n",
    "file_path = data_path / folder / file  # Complete file path\n",
    "\n",
    "\n",
    "# Create a Hazard object from the .tif file using the from_raster method\n",
    "haz = Hazard.from_raster(\n",
    "    files_intensity=[str(file_path)],  # The function expects a list of file paths\n",
    "    haz_type=hazard_type,  # Set the hazard type\n",
    "    dst_crs=intended_crs  # Reproject to the intended CRS if necessary\n",
    "    # resampling=rasterio.warp.Resampling.nearest  # Resampling method if reprojection is needed\n",
    ")\n",
    "\n",
    "haz.check()"
   ]
  },
  {
   "cell_type": "code",
   "execution_count": 6,
   "metadata": {},
   "outputs": [
    {
     "name": "stdout",
     "output_type": "stream",
     "text": [
      "[0.00000000e+00 5.96046448e-08 1.19209290e-07 ... 7.50899982e+00\n",
      " 8.02900028e+00            nan]\n"
     ]
    }
   ],
   "source": [
    "# Assuming haz.intensity is a sparse matrix, convert it to a dense array if necessary\n",
    "dense_intensity = haz.intensity.toarray() if hasattr(haz.intensity, 'toarray') else haz.intensity\n",
    "\n",
    "# Get the unique values of the dense matrix\n",
    "unique_values = np.unique(dense_intensity)\n",
    "\n",
    "print(unique_values)"
   ]
  },
  {
   "cell_type": "code",
   "execution_count": 7,
   "metadata": {},
   "outputs": [],
   "source": [
    "import numpy as np\n",
    "from scipy.sparse import csr_matrix\n",
    "\n",
    "# Assuming haz.intensity is a sparse matrix\n",
    "dense_intensity = haz.intensity.toarray() if hasattr(haz.intensity, 'toarray') else haz.intensity\n",
    "\n",
    "# Replace NaN values with zero\n",
    "dense_intensity = np.nan_to_num(dense_intensity, nan=0.0)\n",
    "\n",
    "# Convert back to sparse matrix if needed\n",
    "sparse_intensity = csr_matrix(dense_intensity)\n",
    "\n",
    "# Update haz.intensity with the new sparse matrix\n",
    "haz.intensity = sparse_intensity\n",
    "\n",
    "haz.check()"
   ]
  },
  {
   "cell_type": "markdown",
   "metadata": {},
   "source": [
    "### Define the Exposure Object\n",
    "\n",
    "We will now define the exposure object using the provided building shapefile.\n",
    "\n",
    "Since the shapefile does not include specific values for the exposure, we will arbitrarily set these values to one."
   ]
  },
  {
   "cell_type": "code",
   "execution_count": 8,
   "metadata": {},
   "outputs": [
    {
     "name": "stdout",
     "output_type": "stream",
     "text": [
      "Origin CRS: EPSG:4326\n",
      "   value_m2  mit_par  fdamage    d1   d2    d3   d4    d5   d6    d7  ...  \\\n",
      "0    1000.0      0.0  default  0.05  0.1  0.15  0.2  0.25  0.3  0.35  ...   \n",
      "1    1000.0      0.0  default  0.05  0.1  0.15  0.2  0.25  0.3  0.35  ...   \n",
      "2    1000.0      0.0  default  0.05  0.1  0.15  0.2  0.25  0.3  0.35  ...   \n",
      "3    1000.0      0.0  default  0.05  0.1  0.15  0.2  0.25  0.3  0.35  ...   \n",
      "4    1000.0      0.0  default  0.05  0.1  0.15  0.2  0.25  0.3  0.35  ...   \n",
      "\n",
      "   d12   d13  d14   d15  d16   d17  d18   d19  \\\n",
      "0  0.6  0.65  0.7  0.75  0.8  0.85  0.9  0.95   \n",
      "1  0.6  0.65  0.7  0.75  0.8  0.85  0.9  0.95   \n",
      "2  0.6  0.65  0.7  0.75  0.8  0.85  0.9  0.95   \n",
      "3  0.6  0.65  0.7  0.75  0.8  0.85  0.9  0.95   \n",
      "4  0.6  0.65  0.7  0.75  0.8  0.85  0.9  0.95   \n",
      "\n",
      "                                            geometry  value  \n",
      "0  POLYGON ((12.56130 44.05974, 12.56112 44.06043...    1.0  \n",
      "1  POLYGON ((12.57523 44.05219, 12.57532 44.05227...    1.0  \n",
      "2  POLYGON ((12.57477 44.05181, 12.57523 44.05219...    1.0  \n",
      "3  POLYGON ((12.57941 44.03125, 12.57939 44.03137...    1.0  \n",
      "4  POLYGON ((12.62893 44.02009, 12.62890 44.02007...    1.0  \n",
      "\n",
      "[5 rows x 24 columns]\n"
     ]
    }
   ],
   "source": [
    "from climada.entity import Exposures\n",
    "\n",
    "# Parameters\n",
    "folder = 'Saferplaces/OSM_BUILDINGS_161124'\n",
    "file = 'OSM_BUILDINGS_161124.shp'\n",
    "\n",
    "# Folder where the file is located\n",
    "shape_file = data_path / folder / file\n",
    "\n",
    "# Load the shapefile into a GeoDataFrame\n",
    "exp_gdf = gpd.read_file(shape_file)\n",
    "\n",
    "# Check the CRS (Coordinate Reference System)\n",
    "print(\"Origin CRS:\", exp_gdf.crs)\n",
    "exp_gdf = exp_gdf.to_crs(intended_crs) # Convert the crs to the intended crs\n",
    "\n",
    "# Add a 'value' column to the GeoDataFrame and set all values arbitrarily to 1\n",
    "exp_gdf['value'] = np.ones(len(exp_gdf))\n",
    "\n",
    "# Display the first few rows of the GeoDataFrame\n",
    "print(exp_gdf.head())\n",
    "\n",
    "# Define the exposure object\n",
    "exp = Exposures(exp_gdf)"
   ]
  },
  {
   "cell_type": "markdown",
   "metadata": {},
   "source": [
    "### Define the impact function"
   ]
  },
  {
   "cell_type": "code",
   "execution_count": 9,
   "metadata": {},
   "outputs": [
    {
     "data": {
      "text/plain": [
       "array([<Axes: title={'center': 'RF 1: '}, xlabel='Intensity ()', ylabel='Impact (%)'>,\n",
       "       <Axes: title={'center': 'RF 2: '}, xlabel='Intensity ()', ylabel='Impact (%)'>],\n",
       "      dtype=object)"
      ]
     },
     "execution_count": 9,
     "metadata": {},
     "output_type": "execute_result"
    },
    {
     "data": {
      "image/png": "[encoded data removed]",
      "text/plain": [
       "<Figure size 640x480 with 2 Axes>"
      ]
     },
     "metadata": {},
     "output_type": "display_data"
    }
   ],
   "source": [
    "from climada.entity import ImpactFunc, ImpactFuncSet\n",
    "min_depth = 0\n",
    "max_depth = 1000\n",
    "\n",
    "# Impact function 1 with a step function 0 to 1 with a threshold starting at 1\n",
    "threshold1 = 1\n",
    "impf_id1 = 1\n",
    "impf1 = ImpactFunc.from_step_impf(\n",
    "    intensity=(min_depth, threshold1, max_depth),\n",
    "    haz_type=hazard_type,\n",
    "    impf_id=impf_id1\n",
    ")\n",
    "\n",
    "# Impact function 2 with a step function 0 to 1 with a threshold starting at 2\n",
    "threshold2 = 2\n",
    "impf_id2 = 2\n",
    "impf2 = ImpactFunc.from_step_impf(\n",
    "    intensity=(min_depth, threshold2, max_depth),\n",
    "    haz_type=hazard_type,\n",
    "    impf_id=impf_id2\n",
    ")\n",
    "\n",
    "impfset = ImpactFuncSet([impf1, impf2])\n",
    "\n",
    "#  Plot the impact functions\n",
    "impfset.plot()"
   ]
  },
  {
   "cell_type": "markdown",
   "metadata": {},
   "source": [
    "Now, we need to assign the impact functions to the exposure points. To simplify the example and see how many buidling where impacted with a water level greater than 1 m we use only impf_id1"
   ]
  },
  {
   "cell_type": "code",
   "execution_count": 10,
   "metadata": {},
   "outputs": [],
   "source": [
    "exp.gdf[f'impf_{hazard_type}'] = impf_id1 # Assign the impact function to the exposure object with threshold 1"
   ]
  },
  {
   "cell_type": "markdown",
   "metadata": {},
   "source": [
    "### Calculate the Impact\n",
    "\n",
    "Given the high resolution of the hazard and exposure object, which is finer than what is typically used in CLIMADA, we will calculate the impact per building (represented by polygons) using two different approaches. This allows us to compare the differences in results.\n",
    "\n",
    "#### Two-Step Impact Calculation:\n",
    "\n",
    "1. **Rasterization Approach**:\n",
    "   - Divide each building into grid points.\n",
    "   - Distribute the building’s value equally among these grid points.\n",
    "   - Use a nearest-neighbor approach (with a specified distance tolerance) to calculate the impact.\n",
    "   - See CLIMADA tutorial [how-to-use-polygons-or-lines-as-exposure](https://climada-python.readthedocs.io/en/stable/tutorial/climada_entity_Exposures_polygons_lines.html#how-to-use-polygons-or-lines-as-exposure)\n",
    "\n",
    "2. **Buffer Approach**:\n",
    "   - Create a 20-meter buffer zone around each building.\n",
    "   - Calculate the average water level within this buffer.\n",
    "   - Represent each building by a centroid and project the average water level onto that centroid.\n",
    "   - Approach inspired by SAFERPLACES\n",
    "\n",
    "By applying these two methods, we can evaluate the differences in impact calculation due to resolution and spatial representation.\n",
    "The impact calculations are stored in an [Impact object](https://climada-python.readthedocs.io/en/stable/tutorial/climada_engine_Impact.html#impact-class-data-structure)\n",
    "\n",
    "Below is an illustrative figure of the water distribution around a building (white square):\n",
    "\n",
    "![image.png](attachment:image.png)"
   ]
  },
  {
   "cell_type": "markdown",
   "metadata": {},
   "source": [
    "#### Calculate the impact - Rasterization"
   ]
  },
  {
   "cell_type": "code",
   "execution_count": 11,
   "metadata": {},
   "outputs": [
    {
     "name": "stderr",
     "output_type": "stream",
     "text": [
      "/Users/vwattin/Documents/Programming/Climate/climada_python/climada/util/lines_polys_handler.py:617: FutureWarning: The 'axis' keyword in DataFrame.groupby is deprecated and will be removed in a future version.\n",
      "  group = gdf_pnts.groupby(axis=0, level=0)\n"
     ]
    }
   ],
   "source": [
    "import climada.util.lines_polys_handler as u_lp\n",
    "\n",
    "imp_rast = u_lp.calc_geom_impact(\n",
    "    exp=exp, # Exposure object\n",
    "    impf_set=impfset, # Impact function set\n",
    "    haz=haz, # hazard object\n",
    "    res= 1, # Resolution of the grid in meters (Don't know the max resolution) :/)\n",
    "    to_meters=True, # If True, res is interpreted as meters\n",
    "    disagg_met=u_lp.DisaggMethod.DIV,  # Disaggregation method – can be either fixed (FIX), replicating the original shape’s value onto all points, or divided evenly (DIV), in which case the value is divided equally onto all new points. \n",
    "    disagg_val=None, # Disaggregation value, the source (and number) of the value to be distributed\n",
    "    agg_met=u_lp.AggMethod.SUM # Aggregation method ( can currently be only (SUM) were the value is summed over all points in the geometry)\n",
    ")\n",
    "\n",
    "# imp_rast: Impact object with the impact per geometry (rows of exp.gdf). Contains two additional attributes 'geom_exp' and 'coord_exp', the first one being the origninal line or polygon geometries for which impact was computed."
   ]
  },
  {
   "cell_type": "code",
   "execution_count": 12,
   "metadata": {},
   "outputs": [
    {
     "name": "stdout",
     "output_type": "stream",
     "text": [
      "The impact using the rasterization method: 16.84530982441027\n",
      "The number of buildings impacted by water level above 1m: 1107\n"
     ]
    },
    {
     "ename": "",
     "evalue": "",
     "output_type": "error",
     "traceback": [
      "\u001b[1;31mThe Kernel crashed while executing code in the current cell or a previous cell. \n",
      "\u001b[1;31mPlease review the code in the cell(s) to identify a possible cause of the failure. \n",
      "\u001b[1;31mClick <a href='https://aka.ms/vscodeJupyterKernelCrash'>here</a> for more info. \n",
      "\u001b[1;31mView Jupyter <a href='command:jupyter.viewOutput'>log</a> for further details."
     ]
    }
   ],
   "source": [
    "# Print the total impact value for the event\n",
    "print(f'The impact using the rasterization method: {imp_rast.at_event}') # The impact using the rasterization method\n",
    "\n",
    "# Print the number of cells with impact values greater than 0\n",
    "print(f'The number of buildings impacted by water level above {threshold1}m: {(imp_rast.imp_mat.toarray() > 0).sum()}')\n"
   ]
  },
  {
   "cell_type": "markdown",
   "metadata": {},
   "source": [
    "## Use the 20meter buffer method"
   ]
  },
  {
   "cell_type": "markdown",
   "metadata": {},
   "source": [
    "To account for varying water levels around each building, we create a 20-meter buffer zone around each building polygon and calculate the average water level within this zone (excluding the zone occupied by the building). The process involves:\n",
    "\n",
    "1. **Buffer Creation**: Draw a 20-meter buffer around each building polygon.\n",
    "2. **Dummy Centroid Representation**: Represent each building with a dummy centroid point.\n",
    "3. **Water Level Calculation**: For each building, identify hazard centroids within the buffer (excluding the building area) and compute the average water level.\n",
    "4. **New Hazard Object**: Create a hazard object where the intensity at each dummy centroid reflects the average water level.\n",
    "5. **New Exposure Object**: Represent buildings by their corresponding dummy centroids in the new exposure object.\n",
    "6. **Impact Calculation**: Calculate the impact using the new hazard and exposure objects.\n",
    "\n",
    "By using dummy centroids instead of building polygons, we simplify the exposure representation while incorporating spatial variations in water levels.\n"
   ]
  },
  {
   "cell_type": "code",
   "execution_count": 13,
   "metadata": {},
   "outputs": [
    {
     "name": "stderr",
     "output_type": "stream",
     "text": [
      "/var/folders/cc/c55t39cs0_7dn2cdqsg62v4c0000gp/T/ipykernel_3457/3713544121.py:16: UserWarning: Geometry is in a geographic CRS. Results from 'centroid' are likely incorrect. Use 'GeoSeries.to_crs()' to re-project geometries to a projected CRS before this operation.\n",
      "\n",
      "  lon_conversion_factor = 111320 * np.cos(np.radians(exp_dummy_gdf.geometry.centroid.y.mean()))  # meters per degree longitude at the average latitude\n",
      "/var/folders/cc/c55t39cs0_7dn2cdqsg62v4c0000gp/T/ipykernel_3457/3713544121.py:22: UserWarning: Geometry is in a geographic CRS. Results from 'buffer' are likely incorrect. Use 'GeoSeries.to_crs()' to re-project geometries to a projected CRS before this operation.\n",
      "\n",
      "  exp_dummy_gdf['geometry_buffert'] = exp_dummy_gdf['geometry'].buffer(buffer_dist_lat)\n",
      "/var/folders/cc/c55t39cs0_7dn2cdqsg62v4c0000gp/T/ipykernel_3457/3713544121.py:26: UserWarning: Geometry is in a geographic CRS. Results from 'centroid' are likely incorrect. Use 'GeoSeries.to_crs()' to re-project geometries to a projected CRS before this operation.\n",
      "\n",
      "  exp_dummy_gdf['geometry'] = exp_dummy_gdf['geometry'].centroid\n",
      "/Users/vwattin/anaconda3/envs/climada_env/lib/python3.9/site-packages/IPython/core/interactiveshell.py:3526: FutureWarning: The `op` parameter is deprecated and will be removed in a future release. Please use the `predicate` parameter instead.\n",
      "  exec(code_obj, self.user_global_ns, self.user_ns)\n"
     ]
    }
   ],
   "source": [
    "import time\n",
    "import geopandas as gpd\n",
    "\n",
    "# Parameters\n",
    "buffer_dist = 20  # Buffer distance in meters\n",
    "\n",
    "# Make a copy of the original GeoDataFrame in exposure\n",
    "exp_dummy_gdf = exp.gdf.copy()\n",
    "\n",
    "# Check if the CRS is EPSG:4326\n",
    "if exp_dummy_gdf.crs != \"EPSG:4326\":\n",
    "    raise ValueError(\"The GeoDataFrame CRS is not 'EPSG:4326'. Please reproject it to 'EPSG:4326' before applying this function.\")\n",
    "\n",
    "# Convert 20 meters to degrees for latitude and longitude\n",
    "lat_conversion_factor = 111320  # meters per degree latitude\n",
    "lon_conversion_factor = 111320 * np.cos(np.radians(exp_dummy_gdf.geometry.centroid.y.mean()))  # meters per degree longitude at the average latitude\n",
    "# Convert buffer distance to degrees\n",
    "buffer_dist_lat = buffer_dist / lat_conversion_factor\n",
    "buffer_dist_lon = buffer_dist / lon_conversion_factor\n",
    "\n",
    "# Create a buffer around the single point geometry\n",
    "exp_dummy_gdf['geometry_buffert'] = exp_dummy_gdf['geometry'].buffer(buffer_dist_lat)\n",
    "exp_dummy_gdf['geometry_original'] = exp_dummy_gdf['geometry']  # Save the original geometry for later\n",
    "\n",
    "# Add a column to the GeoDataFrame such that each polygon is represented by a point instead of the original polygon\n",
    "exp_dummy_gdf['geometry'] = exp_dummy_gdf['geometry'].centroid\n",
    "\n",
    "# Create a GeoDataFrame for the hazard centroids\n",
    "haz_centroid_gdf = gpd.GeoDataFrame(geometry=gpd.points_from_xy(haz.centroids.lon, haz.centroids.lat))\n",
    "# Ensure the centroids GeoDataFrame and polygon GeoDataFrame are in the same CRS\n",
    "haz_centroid_gdf.crs = exp_dummy_gdf.crs\n",
    "\n",
    "# Function to get hazard centroids indices that are within the buffer zone\n",
    "def get_centroids_inside(gdf, centroid_gdf, geometry_column):\n",
    "    gdf = gdf.set_geometry(geometry_column)  # Set the specified geometry column as active\n",
    "    joined = gpd.sjoin(centroid_gdf, gdf, how='left', op='within')\n",
    "    grouped = joined.groupby('index_right').apply(lambda x: list(x.index)).reindex(gdf.index, fill_value=[])\n",
    "    gdf = gdf.set_geometry('geometry')  # Reset to the original geometry column\n",
    "    return grouped\n",
    "\n",
    "# Get centroids within buffered and original geometries\n",
    "exp_dummy_gdf['haz_centroid_indices_buffer'] = get_centroids_inside(exp_dummy_gdf, haz_centroid_gdf, 'geometry_buffert')  # Get the indices of the hazard centroids that are within the buffer zone\n",
    "exp_dummy_gdf['haz_centroid_indices_original'] = get_centroids_inside(exp_dummy_gdf, haz_centroid_gdf, 'geometry_original')  # Get the indices of the hazard centroids that are within the original geometry\n",
    "\n",
    "# Subtract to find centroids in the buffer but not in the original geometry\n",
    "exp_dummy_gdf['haz_centroid_indices'] = exp_dummy_gdf['haz_centroid_indices_buffer'].apply(set) - exp_dummy_gdf['haz_centroid_indices_original'].apply(set)\n",
    "exp_dummy_gdf['haz_centroid_indices'] = exp_dummy_gdf['haz_centroid_indices'].apply(list)\n",
    "\n",
    "# Clean up temporary columns\n",
    "exp_dummy_gdf.drop(columns=['geometry_buffert', 'haz_centroid_indices_buffer', 'haz_centroid_indices_original'], inplace=True)\n",
    "\n",
    "# Print the first few rows of the updated GeoDataFrame\n",
    "print(exp_dummy_gdf.head())\n",
    "\n",
    "# Create the dummy exposure object\n",
    "exp_dummy = Exposures(exp_dummy_gdf)\n",
    "\n",
    "# Set the latitude and longitude for the exposure object\n",
    "exp_dummy.set_lat_lon()\n",
    "\n",
    "# Check the exposure object\n",
    "exp_dummy.check()\n"
   ]
  },
  {
   "cell_type": "markdown",
   "metadata": {},
   "source": [
    "Now, create a dummy hazard object based on the single point dummy centroids where the average water level in the bufferet zone is projected on each dummy centroid.   "
   ]
  },
  {
   "cell_type": "code",
   "execution_count": null,
   "metadata": {},
   "outputs": [],
   "source": [
    "import numpy as np\n",
    "import copy\n",
    "from scipy.sparse import csr_matrix\n",
    "\n",
    "# Create a dummy intensity matrix\n",
    "n_events = len(haz.event_id)\n",
    "n_centroids = len(exp_dummy_gdf)\n",
    "dummy_intensity_matrix = np.zeros((n_events, n_centroids))\n",
    "\n",
    "# Copy the original intensity matrix\n",
    "intensity_matrix = copy.deepcopy(haz.intensity.toarray())\n",
    "\n",
    "# Iterate over each row in exp_dummy_gdf\n",
    "for idx, row in exp_dummy_gdf.iterrows():\n",
    "    centroid_indices = row['haz_centroid_indices']\n",
    "\n",
    "    if centroid_indices:  # Ensure centroid_indices is not empty\n",
    "        # Calculate the mean intensity for the centroids\n",
    "        dummy_intensity_matrix[:, idx] = np.mean(intensity_matrix[:, centroid_indices], axis=1)\n",
    "    else:\n",
    "        # Handle the case where centroid_indices is empty (e.g., set to 0 or NaN)\n",
    "        dummy_intensity_matrix[:, idx] = 0\n",
    "\n",
    "# Create the hazard object with the centroids based on the 'geometry' (which is now the dummy centroid) column\n",
    "haz_dummy = Hazard(\n",
    "    haz_type=haz.haz_type,\n",
    "    intensity=csr_matrix(dummy_intensity_matrix),  # intensity of the event\n",
    "    centroids=Centroids(lat=exp_dummy_gdf.geometry.y, lon=exp_dummy_gdf.geometry.x, crs=exp_dummy_gdf.crs),  \n",
    "    units=haz.units,\n",
    "    event_id=haz.event_id,\n",
    "    frequency=haz.frequency\n",
    ")\n",
    "\n",
    "# Check the hazard object\n",
    "haz_dummy.check()\n"
   ]
  },
  {
   "cell_type": "code",
   "execution_count": null,
   "metadata": {},
   "outputs": [],
   "source": [
    "# We can assign centroids of the hazard the exposure points manually. This is useful when doing repeated impact calculations\n",
    "exp_dummy.assign_centroids(haz_dummy)"
   ]
  },
  {
   "cell_type": "markdown",
   "metadata": {},
   "source": [
    "Calculate the impact"
   ]
  },
  {
   "cell_type": "code",
   "execution_count": null,
   "metadata": {},
   "outputs": [],
   "source": [
    "from climada.engine import ImpactCalc\n",
    "\n",
    "# Create the impact calculation object\n",
    "impcalc = ImpactCalc(exposures=exp_dummy, impfset=impfset, hazard=haz_dummy)\n",
    "\n",
    "# Calculate the impact object\n",
    "imp_buffert = impcalc.impact(assign_centroids=False)"
   ]
  },
  {
   "cell_type": "code",
   "execution_count": null,
   "metadata": {},
   "outputs": [],
   "source": [
    "# Print the aai\n",
    "print(f'The total impact using the buffert method: {imp_buffert.at_event[0]}') # Note, that we only have one event\n",
    "\n",
    "# The number of buildings impacted by water level above 1m\n",
    "print(f'The number of buildings impacted by water level above {threshold1}m: {(imp_buffert.imp_mat.toarray() > 0).sum()}')"
   ]
  },
  {
   "cell_type": "markdown",
   "metadata": {},
   "source": [
    "Compare the impact calculations using the rasterization method and the buffer approach\n",
    "\n",
    "- When using the rasterization method, some buildings are partially impacted, resulting in total impact values between 0 and 1. In contrast, the buffer approach treats each building as either fully impacted or not impacted at all. \n",
    "\n",
    "- You can inspect the distribution of impact values with the following commands:\n",
    "\n",
    "    ```python\n",
    "    np.unique(imp_rast.imp_mat.toarray())  # For the rasterization approach\n",
    "    np.unique(imp_buffert.imp_mat.toarray())  # For the buffer approach\n"
   ]
  },
  {
   "cell_type": "code",
   "execution_count": null,
   "metadata": {},
   "outputs": [],
   "source": [
    "# Print the total impact value for the event for the two methods\n",
    "print(f'The total impact using the rasterization method: {imp_rast.at_event}')\n",
    "print(f'The total impact using the buffer method: {imp_buffert.at_event[0]}')\n",
    "print('\\n')\n",
    "\n",
    "# Print the number of buildings impacted by water level above 1m for the two methods\n",
    "print(f'The number of buildings impacted by water level above {threshold1}m using the rasterization method: {(imp_rast.imp_mat.toarray() > 0).sum()}')\n",
    "print(f'The number of buildings impacted by water level above {threshold1}m using the buffer method: {(imp_buffert.imp_mat.toarray() > 0).sum()}')"
   ]
  },
  {
   "cell_type": "markdown",
   "metadata": {},
   "source": [
    "Save file as CSV"
   ]
  },
  {
   "cell_type": "code",
   "execution_count": null,
   "metadata": {},
   "outputs": [],
   "source": [
    "# Save to csv (netcdf will be implemented soon)\n",
    "imp_buffert.write_csv(output_path / 'impact_Saferplaces_example1_buffer.csv')\n",
    "imp_rast.write_csv(output_path / 'impact_Saferplaces_example1_raster.csv')"
   ]
  }
 ],
 "metadata": {
  "kernelspec": {
   "display_name": "climada_env",
   "language": "python",
   "name": "python3"
  },
  "language_info": {
   "codemirror_mode": {
    "name": "ipython",
    "version": 3
   },
   "file_extension": ".py",
   "mimetype": "text/x-python",
   "name": "python",
   "nbconvert_exporter": "python",
   "pygments_lexer": "ipython3",
   "version": "3.9.18"
  }
 },
 "nbformat": 4,
 "nbformat_minor": 2
}
