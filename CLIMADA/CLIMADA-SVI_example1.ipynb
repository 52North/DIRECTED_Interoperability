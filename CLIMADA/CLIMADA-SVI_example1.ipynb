{
 "cells": [
  {
   "cell_type": "markdown",
   "metadata": {},
   "source": [
    "# CLIMADA - SVI data flow: EXAMPLE 1"
   ]
  },
  {
   "cell_type": "markdown",
   "metadata": {},
   "source": [
    "### Using SVI Data for Impact Analysis\n",
    "\n",
    "In this example, we use pre-labeled Social Vulnerability Index (SVI) data to categorize regions in Ireland.\n",
    "\n",
    "**Extracting Population Data**\n",
    "\n",
    "Population counts are extracted from census data to quantify exposure and assess how different vulnerability groups are impacted.\n",
    "\n",
    "**Approaches to SVI Data**\n",
    "\n",
    "1. **Segmented Analysis**: Analyze how different vulnerability groups are impacted by hazards.\n",
    "2. **Customized Impact Functions**: In future examples, we could potentially assign different impact functions to these groups based on their vulnerability levels.\n",
    "\n",
    "**Pre-Labeled SVI Data**\n",
    "\n",
    "The SVI data has been pre-labeled using methods from [this GitHub repository](https://github.com/jamesfitton/ISVEHI/tree/main/0_Scripts), based on census data.\n",
    "\n",
    "**Future Steps: MCDM**\n",
    "\n",
    "We'll later use Multi-Criteria Decision Making (MCDM) to assign different weights to these groups for a more detailed impact analysis.\n"
   ]
  },
  {
   "cell_type": "code",
   "execution_count": 1,
   "metadata": {},
   "outputs": [],
   "source": [
    "from pathlib import Path"
   ]
  },
  {
   "cell_type": "markdown",
   "metadata": {},
   "source": [
    "**Define the path to DATA folder. The DATA can be downloaded from NEXTCLOUD [https://cloud.tu-braunschweig.de/f/569399210](https://cloud.tu-braunschweig.de/f/569399210)**   "
   ]
  },
  {
   "cell_type": "code",
   "execution_count": 2,
   "metadata": {},
   "outputs": [],
   "source": [
    "data_path = Path('/Users/vwattin/Documents/Programming/Climate/DIRECTED/Coupling/DATA')\n",
    "\n",
    "# Define the output folder path (used later in the script)\n",
    "output_path = Path('Results/SVI')\n",
    "\n",
    "# Create the output folder if it doesn't exist\n",
    "output_path.mkdir(parents=True, exist_ok=True)"
   ]
  },
  {
   "cell_type": "markdown",
   "metadata": {},
   "source": [
    "### Exposure data"
   ]
  },
  {
   "cell_type": "markdown",
   "metadata": {},
   "source": [
    "Load the shape file of the geographic areas"
   ]
  },
  {
   "cell_type": "code",
   "execution_count": 3,
   "metadata": {},
   "outputs": [],
   "source": [
    "import numpy as np\n",
    "import geopandas as gpd\n",
    "\n",
    "# Parameters\n",
    "folder = 'SVI/Small_Areas_Ungeneralised_-8569847655562501507'\n",
    "file = 'Small_Areas_Ungen_-_2015.shp'\n",
    "\n",
    "# Folder where the file is located\n",
    "shape_file = data_path / folder / file\n",
    "\n",
    "# Load the shapefile into a GeoDataFrame\n",
    "exp_gdf = gpd.read_file(shape_file)\n",
    "\n",
    "# The object stores the following columns\n",
    "# ['GUID', 'NUTS1', 'NUTS1NAME', 'NUTS2', 'NUTS2NAME', 'NUTS3',\n",
    "#        'NUTS3NAME', 'COUNTY', 'COUNTYNAME', 'CSOED', 'OSIED', 'EDNAME',\n",
    "#        'SA_PUB2011', 'SMALL_AREA', 'GEOGID', 'AREA', 'CHANGECODE', 'ESRI_OID',\n",
    "#        'geometry']\n",
    "\n",
    "# Print the first row of the GeoDataFrame\n",
    "# print(exp_gdf.iloc[0])\n",
    "\n",
    "# Store only the columns that are needed\n",
    "store_columns = ['GUID', 'NUTS1', 'NUTS1NAME', 'COUNTY', 'COUNTYNAME', 'geometry']\n",
    "exp_gdf = exp_gdf[store_columns]"
   ]
  },
  {
   "cell_type": "markdown",
   "metadata": {},
   "source": [
    "Add additonal census data to the gdf"
   ]
  },
  {
   "cell_type": "code",
   "execution_count": 4,
   "metadata": {},
   "outputs": [],
   "source": [
    "import pandas as pd\n",
    "from climada.entity import Exposures\n",
    "\n",
    "# Parameters\n",
    "folder = 'SVI'\n",
    "file = 'censusData.csv'\n",
    "file_path = data_path / folder / file\n",
    "\n",
    "# Import CSV file as a DataFrame\n",
    "census_df = pd.read_csv(file_path)\n",
    "\n",
    "# The available columns in the DataFrame are\n",
    "# ['GUID', 'populationTotal', 'young', 'old', 'priSch', 'poorHealth',\n",
    "#        'disability', 'unemploy', 'lowSkill', 'farming', 'rent', 'education',\n",
    "#        'engLang', 'newRes', 'travelTime', 'householdsTotal', 'noHeating',\n",
    "#        'yearBuilt', 'mobHome', 'oneParent', 'onePerson', 'noCar', 'noInternet',\n",
    "#        'priWater']\n",
    "\n",
    "# Store only the columns that are needed\n",
    "store_columns = ['GUID','populationTotal']\n",
    "census_df = census_df[store_columns]\n",
    "\n",
    "# Ensure the GUID column is of the same type in both DataFrames\n",
    "census_df['GUID'] = census_df['GUID'].astype(str)\n",
    "exp_gdf['GUID'] = exp_gdf['GUID'].astype(str)\n",
    "\n",
    "# Merge the two DataFrames\n",
    "exp_gdf = exp_gdf.merge(census_df, on='GUID')\n",
    "\n",
    "# Print the first row of the GeoDataFrame\n",
    "# print(exp_gdf.iloc[0])"
   ]
  },
  {
   "cell_type": "markdown",
   "metadata": {},
   "source": [
    "Add the social vulnerability index to the gdf"
   ]
  },
  {
   "cell_type": "code",
   "execution_count": 5,
   "metadata": {},
   "outputs": [],
   "source": [
    "import pandas as pd\n",
    "\n",
    "# Parameters\n",
    "folder = 'SVI'\n",
    "file = 'irelandVulnerability.csv'\n",
    "file_path = data_path / folder / file\n",
    "\n",
    "# Import CSV file as a DataFrame\n",
    "svi_vuln_df = pd.read_csv(file_path)\n",
    "\n",
    "# Store only the columns that are needed\n",
    "store_columns = ['GUID','vuln']\n",
    "svi_vuln_df = svi_vuln_df[store_columns]\n",
    "\n",
    "# Get the 6 equal intervals of the column vuln and store them in a new column called vuln_str [ 'Very Low', 'Low', 'Average', 'High', 'Very High', 'Extreme']\n",
    "vuln_bins = ['Very Low', 'Low', 'Average', 'High', 'Very High', 'Extreme']\n",
    "svi_vuln_df['vuln_group'] = pd.cut(svi_vuln_df['vuln'], bins=len(vuln_bins), labels=vuln_bins)\n",
    "\n",
    "# Ensure the GUID column is of the same type in both DataFrames\n",
    "#census_df['GUID'] = census_df['GUID'].astype(str)\n",
    "exp_gdf['GUID'] = svi_vuln_df['GUID'].astype(str)\n",
    "\n",
    "# Join the GeoDataFrame with the census DataFrame on the GUID column\n",
    "exp_gdf = exp_gdf.merge(svi_vuln_df, on='GUID')\n",
    "\n",
    "# Print the first 5 rows of the merged GeoDataFrame\n",
    "# print(exp_gdf.head())"
   ]
  },
  {
   "cell_type": "markdown",
   "metadata": {},
   "source": [
    "Create Exposure Files for Each Vulnerability Group (Including All Groups)\n",
    "\n",
    "*Note: This approach may not be the most efficient, as we could derive the exposure and impact objects for one exposure and then use the vulnerability labels to calculate values for each group from the impact matrix. However, for simplicity and to separate the return period calculations, we will follow this method in the example notebook.*\n"
   ]
  },
  {
   "cell_type": "code",
   "execution_count": 6,
   "metadata": {},
   "outputs": [
    {
     "name": "stdout",
     "output_type": "stream",
     "text": [
      "Origin CRS: EPSG:2157\n"
     ]
    }
   ],
   "source": [
    "from climada.entity import Exposures\n",
    "\n",
    "# Parameters\n",
    "intended_crs = \"EPSG:4326\"  # CLIMADA default CRS\n",
    "\n",
    "# Assign the populationTotal column as the value column in the Exposure DataFrame\n",
    "exp_gdf['value'] = exp_gdf['populationTotal']\n",
    "\n",
    "# Check the CRS (Coordinate Reference System)\n",
    "print(\"Origin CRS:\", exp_gdf.crs)\n",
    "exp_gdf = exp_gdf.to_crs(intended_crs) # Convert the crs to the intended crs\n",
    "\n",
    "# Store the exposure object in the dictionary for each vulnerability group\n",
    "exp_dict = {}  # Initialize an empty dictionary to store exposure objects\n",
    "exp_dict['All'] = Exposures(exp_gdf)  # All vulnerability groups\n",
    "exp_dict.update({vuln_group: Exposures(exp_gdf[exp_gdf['vuln_group'] == vuln_group]) for vuln_group in vuln_bins})"
   ]
  },
  {
   "cell_type": "markdown",
   "metadata": {},
   "source": [
    "### Hazard data"
   ]
  },
  {
   "cell_type": "markdown",
   "metadata": {},
   "source": [
    "Load the hazard dataset – wind storm data using the CLIMADA "
   ]
  },
  {
   "cell_type": "code",
   "execution_count": 7,
   "metadata": {},
   "outputs": [],
   "source": [
    "from climada.util.api_client import Client\n",
    "client = Client()"
   ]
  },
  {
   "cell_type": "code",
   "execution_count": 8,
   "metadata": {},
   "outputs": [],
   "source": [
    "haz = client.get_hazard(\n",
    "    hazard_type='storm_europe',\n",
    "    properties={\n",
    "        'climate_scenario':'ssp585',\n",
    "        'spatial_coverage':'Europe',\n",
    "        'data_source':'CMIP6',\n",
    "        'gcm':'CMCC-ESM2'\n",
    "    }\n",
    ")\n",
    "\n",
    "haz.check()"
   ]
  },
  {
   "cell_type": "markdown",
   "metadata": {},
   "source": [
    "###  Impact function set"
   ]
  },
  {
   "cell_type": "markdown",
   "metadata": {},
   "source": [
    "Then, we define an impact function. This is tricky, as this typically depends strongly on the datasets, and the user should define them carefully. Here we simply assume a 1m threshold."
   ]
  },
  {
   "cell_type": "code",
   "execution_count": 9,
   "metadata": {},
   "outputs": [
    {
     "data": {
      "text/plain": [
       "<Axes: title={'center': 'WS 1: '}, xlabel='Intensity ()', ylabel='Impact (%)'>"
      ]
     },
     "execution_count": 9,
     "metadata": {},
     "output_type": "execute_result"
    },
    {
     "data": {
      "image/png": "[encoded data removed]",
      "text/plain": [
       "<Figure size 640x480 with 1 Axes>"
      ]
     },
     "metadata": {},
     "output_type": "display_data"
    }
   ],
   "source": [
    "from climada.entity import ImpactFunc, ImpactFuncSet\n",
    "min_wind = 0\n",
    "max_wind = 80\n",
    "\n",
    "threshold1 = 30\n",
    "impf_id1 = 1\n",
    "impf1 = ImpactFunc.from_step_impf(\n",
    "    intensity=(min_wind, threshold1, max_wind),\n",
    "    haz_type=haz.haz_type,\n",
    "    impf_id=impf_id1\n",
    ")\n",
    "\n",
    "impfset = ImpactFuncSet([impf1])\n",
    "\n",
    "# Plot the impact function, which is a step function\n",
    "impfset.plot()"
   ]
  },
  {
   "cell_type": "markdown",
   "metadata": {},
   "source": [
    "We need to assign the impact functions to the exposure points (We could potnetially assign different vulnerability impact functions to different groups)"
   ]
  },
  {
   "cell_type": "code",
   "execution_count": 10,
   "metadata": {},
   "outputs": [],
   "source": [
    "# Store the impact function set in the dictionary for each vulnerability group (including 'All')\n",
    "for _, exp in exp_dict.items():    \n",
    "    exp.gdf[f'impf_{haz.haz_type}'] = impf_id1\n"
   ]
  },
  {
   "cell_type": "markdown",
   "metadata": {},
   "source": [
    "#### Calculate the impact - Rasterization\n",
    "\n",
    "1. **Rasterization Approach**:\n",
    "   - Divide each building into grid points.\n",
    "   - Distribute the building’s value equally among these grid points.\n",
    "   - Use a nearest-neighbor approach (with a specified distance tolerance) to calculate the impact.\n",
    "   - See CLIMADA tutorial [how-to-use-polygons-or-lines-as-exposure](https://climada-python.readthedocs.io/en/stable/tutorial/climada_entity_Exposures_polygons_lines.html#how-to-use-polygons-or-lines-as-exposure)"
   ]
  },
  {
   "cell_type": "code",
   "execution_count": 11,
   "metadata": {},
   "outputs": [
    {
     "name": "stdout",
     "output_type": "stream",
     "text": [
      "2024-09-02 21:00:44,865 - climada.util.lines_polys_handler - WARNING - Polygon smaller than resolution. Setting a representative point.\n",
      "2024-09-02 21:00:51,048 - climada.util.lines_polys_handler - WARNING - Polygon smaller than resolution. Setting a representative point.\n"
     ]
    }
   ],
   "source": [
    "import climada.util.lines_polys_handler as u_lp\n",
    "\n",
    "# Initialize an empty dictionary to store the impact for each vulnerability group\n",
    "imp_dict = {}\n",
    "\n",
    "# Calculate the geometric impact for each vulnerability group (including 'All')\n",
    "for vuln_group, exp in exp_dict.items():\n",
    "    imp_dict[vuln_group] = u_lp.calc_geom_impact(\n",
    "        exp=exp, # Exposure object\n",
    "        impf_set=impfset, # Impact function set\n",
    "        haz=haz, # hazard object\n",
    "        res= 1000, # Resolution of the grid in meters (Don't know the max resolution) :/)\n",
    "        to_meters=True, # If True, res is interpreted as meters\n",
    "        disagg_met=u_lp.DisaggMethod.DIV,  # Disaggregation method – can be either fixed (FIX), replicating the original shape’s value onto all points, or divided evenly (DIV), in which case the value is divided equally onto all new points. \n",
    "        disagg_val=None, # Disaggregation value, the source (and number) of the value to be distributed\n",
    "        agg_met=u_lp.AggMethod.SUM # Aggregation method ( can currently be only (SUM) were the value is summed over all points in the geometry)\n",
    "    )"
   ]
  },
  {
   "cell_type": "markdown",
   "metadata": {},
   "source": [
    "Store the results"
   ]
  },
  {
   "cell_type": "code",
   "execution_count": null,
   "metadata": {},
   "outputs": [],
   "source": [
    "# Loop through each vulnerability group to calculate and plot the frequency curve\n",
    "for vuln_group, imp in imp_dict.items():\n",
    "    # Save to csv (netcdf will be implemented soon)\n",
    "    imp.write_csv(output_path / f'impact_SVI_{vuln_group}_example1.csv')"
   ]
  },
  {
   "cell_type": "markdown",
   "metadata": {},
   "source": [
    "Visualize results"
   ]
  },
  {
   "cell_type": "code",
   "execution_count": null,
   "metadata": {},
   "outputs": [],
   "source": [
    "import matplotlib.pyplot as plt\n",
    "import numpy as np\n",
    "\n",
    "# Initialize lists to store data for plotting\n",
    "vuln_groups = []\n",
    "impact_shares = []\n",
    "total_people = []\n",
    "aai_people = []\n",
    "\n",
    "# Loop through each vulnerability group to calculate the share\n",
    "for vuln_group, imp in imp_dict.items():\n",
    "    if vuln_group == 'All':\n",
    "        continue\n",
    "    total_people_group = exp_dict[vuln_group].gdf['value'].sum()  # Total people in the group\n",
    "    aai_people_group = imp_dict[vuln_group].aai_agg  # Expected number of people impacted per year in the group\n",
    "\n",
    "    # Calculate the share of total people impacted in the group\n",
    "    impact_share = aai_people_group / total_people_group\n",
    "\n",
    "    # Append data to the lists\n",
    "    vuln_groups.append(vuln_group)\n",
    "    impact_shares.append(impact_share)\n",
    "    total_people.append(total_people_group)\n",
    "    aai_people.append(aai_people_group)\n",
    "\n",
    "# Calculate total people and impacted people for the 'All' category\n",
    "total_people_all = sum(total_people)\n",
    "aai_people_all = sum(aai_people)\n",
    "impact_share_all = aai_people_all / total_people_all\n",
    "\n",
    "# Plotting\n",
    "plt.figure(figsize=(12, 8))\n",
    "\n",
    "# Plot individual bars for each vulnerability group\n",
    "colors = plt.cm.Paired(np.arange(len(vuln_groups)))\n",
    "bars = plt.bar(vuln_groups, impact_shares, color=colors)\n",
    "\n",
    "# Plot stacked bar for 'All Groups' using the share of impacted people per group\n",
    "bottom = 0\n",
    "for i, color in enumerate(colors):\n",
    "    group_share_of_all = aai_people[i] / total_people_all  # Contribution of each group to the total \"All Groups\" category\n",
    "    plt.bar('All Groups', group_share_of_all, bottom=bottom, color=color)\n",
    "    bottom += group_share_of_all\n",
    "\n",
    "# Adding title and labels\n",
    "plt.title(f\"Average Annual Share of People in Each Vulnerability Group Impacted by Hazard (> {threshold1} m/s)\", fontsize=16)\n",
    "plt.xlabel(\"Vulnerability Group\", fontsize=14)\n",
    "plt.ylabel(\"Average Annual Impacted Share (%)\", fontsize=14)\n",
    "\n",
    "# Show percentage on y-axis\n",
    "plt.gca().yaxis.set_major_formatter(plt.FuncFormatter(lambda x, _: f'{x:.0%}'))\n",
    "\n",
    "# Rotate x-axis labels if necessary\n",
    "plt.xticks(rotation=45, ha='right')\n",
    "\n",
    "# Add legend\n",
    "plt.legend(bars, vuln_groups, title=\"Vulnerability Group\", bbox_to_anchor=(1.05, 1), loc='upper left')\n",
    "\n",
    "# Add text annotations on top of each bar for individual vulnerability groups\n",
    "for bar, impacted in zip(bars, aai_people):\n",
    "    yval = bar.get_height()\n",
    "    plt.text(\n",
    "        bar.get_x() + bar.get_width() / 2, \n",
    "        yval + 0.01,  # Slightly above the bar\n",
    "        f'{int(impacted):,}',  # Format number with comma separator\n",
    "        ha='center', \n",
    "        va='bottom',\n",
    "        fontsize=12\n",
    "    )\n",
    "\n",
    "# Add annotation for the 'All Groups' stacked bar\n",
    "plt.text(\n",
    "    len(vuln_groups),  # X position for \"All Groups\" (last index)\n",
    "    impact_share_all + 0.01, \n",
    "    f'{int(aai_people_all):,}', \n",
    "    ha='center', \n",
    "    va='bottom',\n",
    "    fontsize=12\n",
    ")\n",
    "\n",
    "# Display the plot\n",
    "plt.tight_layout()\n",
    "plt.show()\n"
   ]
  },
  {
   "cell_type": "code",
   "execution_count": null,
   "metadata": {},
   "outputs": [],
   "source": [
    "import matplotlib.pyplot as plt\n",
    "\n",
    "# Define the return periods\n",
    "return_per = [1, 2, 5, 10, 20, 50, 100, 200]\n",
    "rp_dict = {}\n",
    "\n",
    "# Create a new figure and axis for the plot\n",
    "fig, ax = plt.subplots(figsize=(10, 6))\n",
    "\n",
    "# Loop through each vulnerability group to calculate and plot the frequency curve\n",
    "for vuln_group, imp in imp_dict.items():\n",
    "    rp_dict[vuln_group] = imp.calc_freq_curve(return_per=return_per)\n",
    "\n",
    "# Create the figure with two subplots\n",
    "fig, (ax1, ax2) = plt.subplots(2, 1, figsize=(10, 12))\n",
    "\n",
    "# Loop through each vulnerability group to plot the return period curve\n",
    "for vuln_group, rp_curve in rp_dict.items():\n",
    "    # Get the total number of people in the group\n",
    "    total_people_group = exp_dict[vuln_group].gdf['value'].sum()\n",
    "    \n",
    "    # Calculate the share of people impacted\n",
    "    impact_share = rp_curve.impact / total_people_group\n",
    "    \n",
    "    # Plot the absolute number of people impacted\n",
    "    ax1.plot(rp_curve.return_per, rp_curve.impact, label=vuln_group)\n",
    "    \n",
    "    # Plot the share of total people impacted\n",
    "    ax2.plot(rp_curve.return_per, impact_share, label=vuln_group)\n",
    "\n",
    "# Titles and labels for the absolute numbers plot\n",
    "ax1.set_title(\"Absolute Number of People Impacted\", fontsize=16)\n",
    "ax1.set_xlabel(\"Return Period (Years)\", fontsize=14)\n",
    "ax1.set_ylabel(\"Number of People Impacted\", fontsize=14)\n",
    "ax1.legend(title=\"Vulnerability Group\")\n",
    "ax1.grid(True)\n",
    "\n",
    "# Titles and labels for the share plot\n",
    "ax2.set_title(\"Share of People Impacted in Each Vulnerability Groups\", fontsize=16)\n",
    "ax2.set_xlabel(\"Return Period (Years)\", fontsize=14)\n",
    "ax2.set_ylabel(\"Share of People Impacted\", fontsize=14)\n",
    "ax2.yaxis.set_major_formatter(plt.FuncFormatter(lambda x, _: f'{x:.0%}'))\n",
    "ax2.legend(title=\"Vulnerability Group\")\n",
    "ax2.grid(True)\n",
    "\n",
    "# Display both plots neatly\n",
    "plt.tight_layout()\n",
    "plt.show()\n"
   ]
  }
 ],
 "metadata": {
  "kernelspec": {
   "display_name": "climada_env",
   "language": "python",
   "name": "python3"
  },
  "language_info": {
   "codemirror_mode": {
    "name": "ipython",
    "version": 3
   },
   "file_extension": ".py",
   "mimetype": "text/x-python",
   "name": "python",
   "nbconvert_exporter": "python",
   "pygments_lexer": "ipython3",
   "version": "3.9.18"
  }
 },
 "nbformat": 4,
 "nbformat_minor": 2
}
